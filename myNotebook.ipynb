{
 "cells": [
  {
   "cell_type": "markdown",
   "metadata": {},
   "source": [
    "# Prediksi Harga Rumah Menggunakan Machine Learning"
   ]
  },
  {
   "cell_type": "markdown",
   "metadata": {},
   "source": [
    "Proyek ini bertujuan untuk menganalisis faktor-faktor yang memengaruhi harga rumah dan membangun model prediksi harga menggunakan teknik Machine Learning. Data yang digunakan mencakup berbagai fitur seperti luas tanah, jumlah kamar, lokasi, dan fasilitas lainnya."
   ]
  },
  {
   "cell_type": "markdown",
   "metadata": {},
   "source": [
    "### Teknologi yang Digunakan:\n",
    "* Python\n",
    "* Pandas, NumPy, Matplotlib, Seaborn\n",
    "* Scikit-Learn (Linear Regression, Random Forest, dll.)\n",
    "* Jupyter Notebook"
   ]
  },
  {
   "cell_type": "markdown",
   "metadata": {},
   "source": [
    "### Hasil dan Kesimpulan:\n",
    "* Model yang digunakan berhasil memprediksi harga rumah dengan akurasi yang cukup baik.\n",
    "* Faktor yang paling berpengaruh terhadap harga rumah adalah lokasi dan luas tanah."
   ]
  },
  {
   "cell_type": "markdown",
   "metadata": {},
   "source": [
    "### Cara Menjalankan Proyek:\n",
    "* Clone repository ini atau unduh notebook.\n",
    "* Jalankan Jupyter Notebook dan buka file .ipynb.\n",
    "* Pastikan semua dependensi sudah terinstal dengan menjalankan pip install -r requirements.txt.\n",
    "* Jalankan sel satu per satu untuk mereplikasi hasil analisis."
   ]
  }
 ],
 "metadata": {
  "language_info": {
   "name": "python"
  }
 },
 "nbformat": 4,
 "nbformat_minor": 2
}
