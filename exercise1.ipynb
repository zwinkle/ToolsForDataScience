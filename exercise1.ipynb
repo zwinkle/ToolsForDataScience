{
  "cells": [
    {
      "cell_type": "markdown",
      "id": "bbd40790-95bc-4817-b371-66791f128cd7",
      "metadata": {},
      "source": [
        "# Data Science Languages, Libraries and Tools"
      ]
    },
    {
      "cell_type": "markdown",
      "id": "5e848c99-d382-4698-b909-48e41642c0fd",
      "metadata": {},
      "source": [
        "In this notebook, Data Science Tools and Ecosystem are summarized. \n",
        "**Objectives :**\n",
        "* Python\n",
        "* R\n",
        "* SQL\n",
        "* Scala\n",
        "* Ruby\n",
        "* JavaScript"
      ]
    },
    {
      "cell_type": "markdown",
      "id": "3b4829e7-d167-4889-8932-8b5e9bb9ad8b",
      "metadata": {},
      "source": [
        "Some of the popular languages that Data Scientists use are:\n",
        "1. Python\n",
        "2. R\n",
        "3. SQL\n",
        "4. Scala\n",
        "5. Javascript"
      ]
    },
    {
      "cell_type": "markdown",
      "id": "87bb6c63-d006-48d9-a5bb-26be5907e32c",
      "metadata": {},
      "source": [
        "Some of the commonly used libraries used by Data Scientists include:\n",
        "1. Pandas\n",
        "2. NumPy\n",
        "3. Matplotlib\n",
        "4. Seaborn\n",
        "5. Scikit-learn"
      ]
    },
    {
      "cell_type": "markdown",
      "id": "95b48a3c-b5a7-4beb-b496-8d534d58f4b4",
      "metadata": {},
      "source": [
        "| Data Science Tools |\n",
        "|--------------------|\n",
        "| Jupyter Notebook   |\n",
        "| RStudio            |"
      ]
    },
    {
      "cell_type": "markdown",
      "id": "512243f8-12dd-4a22-a927-ca3acc175ca2",
      "metadata": {},
      "source": [
        "### Below are a few examples of evaluating arithmetic expressions in Python"
      ]
    },
    {
      "cell_type": "code",
      "execution_count": 4,
      "id": "abfdb580-515b-4cc2-b032-151dcabdd38a",
      "metadata": {
        "trusted": true
      },
      "outputs": [
        {
          "data": {
            "text/plain": [
              "5"
            ]
          },
          "execution_count": 4,
          "metadata": {},
          "output_type": "execute_result"
        }
      ],
      "source": [
        "# This a simple arithmetic expression to mutiply then add integers\n",
        "(1*2)+3"
      ]
    },
    {
      "cell_type": "code",
      "execution_count": 3,
      "id": "73049516-b20b-4307-965d-928e19119871",
      "metadata": {
        "trusted": true
      },
      "outputs": [
        {
          "name": "stdout",
          "output_type": "stream",
          "text": [
            "24.0 hours\n"
          ]
        }
      ],
      "source": [
        "# This will convert 1440 minutes to hours by diving by 60\n",
        "x = 1440/60\n",
        "print(x, \"hours\")"
      ]
    },
    {
      "cell_type": "markdown",
      "id": "1d06fa0c",
      "metadata": {},
      "source": [
        "**Objectives :**\n",
        "* Add comments to code cells.\n",
        "* Create markdown cells.\n",
        "* Add ordered and undordered list to markdown cells.\n",
        "* Format content of markdown cells with heading styles."
      ]
    },
    {
      "cell_type": "markdown",
      "id": "5cae43ba-e9b3-46df-a437-bb87365d7d7c",
      "metadata": {},
      "source": [
        "## Author\n",
        "Danar Wasis Pambudi"
      ]
    }
  ],
  "metadata": {
    "kernelspec": {
      "display_name": "Python 3",
      "language": "python",
      "name": "python3"
    },
    "language_info": {
      "codemirror_mode": {
        "name": "ipython",
        "version": 3
      },
      "file_extension": ".py",
      "mimetype": "text/x-python",
      "name": "python",
      "nbconvert_exporter": "python",
      "pygments_lexer": "ipython3",
      "version": "3.12.5"
    }
  },
  "nbformat": 4,
  "nbformat_minor": 5
}
