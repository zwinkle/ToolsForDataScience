{
 "cells": [
  {
   "cell_type": "code",
   "execution_count": null,
   "metadata": {
    "vscode": {
     "languageId": "r"
    }
   },
   "outputs": [],
   "source": [
    "# Exercise 2\n",
    "# FILEPATH\n",
    "print(\"# Exercise 2 - Create a markdown cell with the title of the notebook.\")\n",
    "print(\"# Title of the Notebook\")"
   ]
  },
  {
   "cell_type": "code",
   "execution_count": 1,
   "metadata": {},
   "outputs": [
    {
     "name": "stdout",
     "output_type": "stream",
     "text": [
      "# Exercise 3 - Create a markdown cell for an introduction.\n",
      "Introduction to Data Science\n"
     ]
    }
   ],
   "source": [
    "# Exercise 3\n",
    "# FILEPATH\n",
    "print(\"# Exercise 3 - Create a markdown cell for an introduction.\")\n",
    "print(\"Introduction to Data Science\")"
   ]
  },
  {
   "cell_type": "code",
   "execution_count": 2,
   "metadata": {},
   "outputs": [
    {
     "name": "stdout",
     "output_type": "stream",
     "text": [
      "# Exercise 4 - Create a markdown cell to list data science languages.\n",
      "- Python\n",
      "- R\n",
      "- Julia\n"
     ]
    }
   ],
   "source": [
    "# Exercise 4\n",
    "# FILEPATH\n",
    "print(\"# Exercise 4 - Create a markdown cell to list data science languages.\")\n",
    "print(\"- Python\")\n",
    "print(\"- R\")\n",
    "print(\"- Julia\")"
   ]
  },
  {
   "cell_type": "code",
   "execution_count": 3,
   "metadata": {},
   "outputs": [
    {
     "name": "stdout",
     "output_type": "stream",
     "text": [
      "# Exercise 5 - Create a markdown cell to list data science libraries.\n",
      "- NumPy\n",
      "- Pandas\n",
      "- Matplotlib\n"
     ]
    }
   ],
   "source": [
    "# Exercise 5\n",
    "# FILEPATH\n",
    "print(\"# Exercise 5 - Create a markdown cell to list data science libraries.\")\n",
    "print(\"- NumPy\")\n",
    "print(\"- Pandas\")\n",
    "print(\"- Matplotlib\")"
   ]
  },
  {
   "cell_type": "code",
   "execution_count": 4,
   "metadata": {},
   "outputs": [
    {
     "name": "stdout",
     "output_type": "stream",
     "text": [
      "# Exercise 6 - Create a markdown cell with a table of Data Science tools.\n",
      "| Tool | Description |\n",
      "|------|-------------|\n",
      "| Python | General-purpose programming language |\n",
      "| R | Statistical programming language |\n",
      "| SQL | Database query language |\n"
     ]
    }
   ],
   "source": [
    "# Exercise 6\n",
    "# FILEPATH\n",
    "print(\"# Exercise 6 - Create a markdown cell with a table of Data Science tools.\")\n",
    "print(\"| Tool | Description |\")\n",
    "print(\"|------|-------------|\")\n",
    "print(\"| Python | General-purpose programming language |\")\n",
    "print(\"| R | Statistical programming language |\")\n",
    "print(\"| SQL | Database query language |\")"
   ]
  },
  {
   "cell_type": "code",
   "execution_count": 5,
   "metadata": {},
   "outputs": [
    {
     "name": "stdout",
     "output_type": "stream",
     "text": [
      "# Exercise 7 - Create a markdown cell introducing arithmetic expression examples.\n",
      "Arithmetic Expression Examples\n"
     ]
    }
   ],
   "source": [
    "# Exercise 7\n",
    "# FILEPATH\n",
    "print(\"# Exercise 7 - Create a markdown cell introducing arithmetic expression examples.\")\n",
    "print(\"Arithmetic Expression Examples\")"
   ]
  },
  {
   "cell_type": "code",
   "execution_count": 6,
   "metadata": {},
   "outputs": [
    {
     "name": "stdout",
     "output_type": "stream",
     "text": [
      "# Exercise 8 - Create a code cell to multiply and add numbers.\n",
      "a = 5\n",
      "b = 10\n",
      "multiply_result = a * b\n",
      "add_result = a + b\n"
     ]
    }
   ],
   "source": [
    "# Exercise 8\n",
    "# FILEPATH\n",
    "print(\"# Exercise 8 - Create a code cell to multiply and add numbers.\")\n",
    "print(\"a = 5\")\n",
    "print(\"b = 10\")\n",
    "print(\"multiply_result = a * b\")\n",
    "print(\"add_result = a + b\")"
   ]
  },
  {
   "cell_type": "code",
   "execution_count": 7,
   "metadata": {},
   "outputs": [
    {
     "name": "stdout",
     "output_type": "stream",
     "text": [
      "# Exercise 9 - Create a code cell to convert minutes to hours.\n",
      "minutes = 120\n",
      "hours = minutes / 60\n"
     ]
    }
   ],
   "source": [
    "# Exercise 9\n",
    "# FILEPATH\n",
    "print(\"# Exercise 9 - Create a code cell to convert minutes to hours.\")\n",
    "print(\"minutes = 120\")\n",
    "print(\"hours = minutes / 60\")"
   ]
  },
  {
   "cell_type": "code",
   "execution_count": 8,
   "metadata": {},
   "outputs": [
    {
     "name": "stdout",
     "output_type": "stream",
     "text": [
      "# Exercise 10 - Insert a markdown cell to list Objectives.\n",
      "Objectives:\n",
      "- Learn the basics of data science\n",
      "- Understand data science tools and libraries\n",
      "- Perform arithmetic operations in Python\n"
     ]
    }
   ],
   "source": [
    "# Exercise 10\n",
    "# FILEPATH\n",
    "print(\"# Exercise 10 - Insert a markdown cell to list Objectives.\")\n",
    "print(\"Objectives:\")\n",
    "print(\"- Learn the basics of data science\")\n",
    "print(\"- Understand data science tools and libraries\")\n",
    "print(\"- Perform arithmetic operations in Python\")"
   ]
  },
  {
   "cell_type": "code",
   "execution_count": 9,
   "metadata": {},
   "outputs": [
    {
     "name": "stdout",
     "output_type": "stream",
     "text": [
      "# Exercise 11 - Create a markdown cell to indicate the Author’s name.\n",
      "Author: Danar Wasis Pambudi\n"
     ]
    }
   ],
   "source": [
    "# Exercise 11\n",
    "# FILEPATH\n",
    "print(\"# Exercise 11 - Create a markdown cell to indicate the Author’s name.\")\n",
    "print(\"Author: Danar Wasis Pambudi\")"
   ]
  }
 ],
 "metadata": {
  "kernelspec": {
   "display_name": "Python 3",
   "language": "python",
   "name": "python3"
  },
  "language_info": {
   "codemirror_mode": {
    "name": "ipython",
    "version": 3
   },
   "file_extension": ".py",
   "mimetype": "text/x-python",
   "name": "python",
   "nbconvert_exporter": "python",
   "pygments_lexer": "ipython3",
   "version": "3.12.5"
  }
 },
 "nbformat": 4,
 "nbformat_minor": 2
}
